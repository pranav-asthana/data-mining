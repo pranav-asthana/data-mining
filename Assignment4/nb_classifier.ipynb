{
 "cells": [
  {
   "cell_type": "code",
   "execution_count": 1,
   "metadata": {},
   "outputs": [],
   "source": [
    "import pandas as pd\n",
    "df = pd.read_csv('C:/Users/Sahil/Downloads/nursery.csv')\n",
    "df.columns = ['parents', 'has_nurs', 'form', 'children', 'housing', 'finance', 'social', 'health', 'target']"
   ]
  },
  {
   "cell_type": "code",
   "execution_count": 2,
   "metadata": {},
   "outputs": [],
   "source": [
    "from sklearn.model_selection import train_test_split\n",
    "\n",
    "train, test = train_test_split(df, test_size=0.2)"
   ]
  },
  {
   "cell_type": "code",
   "execution_count": 3,
   "metadata": {},
   "outputs": [
    {
     "name": "stdout",
     "output_type": "stream",
     "text": [
      "Priori Values:  {'spec_prior': 0.31224076396257355, 'not_recom': 0.3293141699623806, 'very_recom': 0.02440435998842481, 'priority': 0.334040706086621}\n"
     ]
    }
   ],
   "source": [
    "priori = {}\n",
    "#class_attr = 'target'\n",
    "class_values = list(set(train['target']))\n",
    "class_data =  list(train['target'])\n",
    "for i in class_values:\n",
    "    priori[i]  = class_data.count(i)/float(len(class_data))\n",
    "print (\"Priori Values: \", priori)"
   ]
  },
  {
   "cell_type": "code",
   "execution_count": 4,
   "metadata": {},
   "outputs": [
    {
     "name": "stderr",
     "output_type": "stream",
     "text": [
      "100%|██████████████████████████████████████| 2592/2592 [11:48<00:00,  5.09it/s]\n"
     ]
    }
   ],
   "source": [
    "from tqdm import tqdm\n",
    "pred = []\n",
    "for index, row in tqdm(test.iterrows(), total=test.shape[0]):\n",
    "    hypothesis = {}\n",
    "    new_dict = {}\n",
    "    for col in df.columns[0:8]:\n",
    "        hypothesis[col] = row[col]\n",
    "    for priori_val in priori:\n",
    "        for item in hypothesis:\n",
    "            new_dict[priori_val] = 1\n",
    "            filter1 = (train[item]==hypothesis[item]) & (train['target']== priori_val)\n",
    "            filter2 = (train['target']==priori_val)\n",
    "            new_dict[priori_val] = new_dict[priori_val]*round(len(train[filter1])/(len(train[filter2])), 3)\n",
    "            #print(item, hypothesis[item], priori_val, round(len(df[filter1])/(len(df[filter2])), 3), priori[priori_val])\n",
    "        new_dict[priori_val] =  new_dict[priori_val]*round(priori[priori_val], 3)\n",
    "    #print(new_dict)\n",
    "    summ = sum(new_dict.values())\n",
    "    for i in new_dict:\n",
    "        new_dict[i] = new_dict[i]/summ\n",
    "    prediction =  max(new_dict, key=lambda key: new_dict[key])\n",
    "    pred.append(prediction)"
   ]
  },
  {
   "cell_type": "code",
   "execution_count": 5,
   "metadata": {},
   "outputs": [],
   "source": [
    "def getAccuracy(testSet, predictions):\n",
    "    correct = 0\n",
    "    for x in range(len(testSet)):\n",
    "        if testSet[x] == predictions[x]:\n",
    "            correct += 1\n",
    "    return (correct/float(len(testSet))) * 100.0"
   ]
  },
  {
   "cell_type": "code",
   "execution_count": 6,
   "metadata": {},
   "outputs": [],
   "source": [
    "testSet = list(test['target'])"
   ]
  },
  {
   "cell_type": "code",
   "execution_count": 7,
   "metadata": {},
   "outputs": [
    {
     "data": {
      "text/plain": [
       "72.2993827160494"
      ]
     },
     "execution_count": 7,
     "metadata": {},
     "output_type": "execute_result"
    }
   ],
   "source": [
    "print('Accuracy: ', getAccuracy(testSet, pred))"
   ]
  },
  {
   "cell_type": "code",
   "execution_count": null,
   "metadata": {},
   "outputs": [],
   "source": []
  }
 ],
 "metadata": {
  "kernelspec": {
   "display_name": "Python 3",
   "language": "python",
   "name": "python3"
  },
  "language_info": {
   "codemirror_mode": {
    "name": "ipython",
    "version": 3
   },
   "file_extension": ".py",
   "mimetype": "text/x-python",
   "name": "python",
   "nbconvert_exporter": "python",
   "pygments_lexer": "ipython3",
   "version": "3.7.0"
  }
 },
 "nbformat": 4,
 "nbformat_minor": 2
}
