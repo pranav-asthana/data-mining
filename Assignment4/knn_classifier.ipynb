{
 "cells": [
  {
   "cell_type": "code",
   "execution_count": 1,
   "metadata": {},
   "outputs": [],
   "source": [
    "import pandas as pd\n",
    "df = pd.read_csv('C:/Users/Sahil/Downloads/nursery.csv')\n",
    "df.columns = ['parents', 'has_nurs', 'form', 'children', 'housing', 'finance', 'social', 'health', 'target']"
   ]
  },
  {
   "cell_type": "code",
   "execution_count": 2,
   "metadata": {
    "scrolled": true
   },
   "outputs": [],
   "source": [
    "def preprocess(df):\n",
    "    new_cols = []\n",
    "    df_tr = pd.DataFrame()\n",
    "    for item in df.columns[0:len(df.columns)-1]:\n",
    "        df_tr = pd.concat([df_tr, pd.get_dummies(df[item], prefix=item)], axis=1)\n",
    "    df_tr[df.columns[len(df.columns)-1]] = df[df.columns[len(df.columns)-1]]\n",
    "    return df_tr\n",
    "\n",
    "def getAccuracy(testSet, predictions):\n",
    "    correct = 0\n",
    "    for x in range(len(testSet)):\n",
    "        if testSet[x] == predictions[x]:\n",
    "            correct += 1\n",
    "    return (correct/float(len(testSet))) * 100.0"
   ]
  },
  {
   "cell_type": "code",
   "execution_count": 3,
   "metadata": {},
   "outputs": [],
   "source": [
    "df = preprocess(df)"
   ]
  },
  {
   "cell_type": "code",
   "execution_count": 4,
   "metadata": {},
   "outputs": [
    {
     "name": "stderr",
     "output_type": "stream",
     "text": [
      "C:\\Users\\Sahil\\Anaconda3\\lib\\site-packages\\ipykernel_launcher.py:8: UserWarning: Pandas doesn't allow columns to be created via a new attribute name - see https://pandas.pydata.org/pandas-docs/stable/indexing.html#attribute-access\n",
      "  \n",
      "100%|████████████████████████████████████| 12959/12959 [18:56<00:00, 12.77it/s]\n"
     ]
    }
   ],
   "source": [
    "import pandas as pd\n",
    "import numpy as np\n",
    "from tqdm import tqdm\n",
    "\n",
    "np_df = np.array(df)[:,0:27]\n",
    "df_dist = pd.DataFrame()\n",
    "df_dist.cols = [i for i in range(0,len(df))]\n",
    "\n",
    "print('Creating distance matrix...')\n",
    "for i in tqdm(range(0,len(np_df))):\n",
    "    c = abs(np_df - np_df[i])\n",
    "    df_dist[i] = list(c.sum(axis=1))\n",
    "    \n",
    "print('Saving distance matrix to disk...')    \n",
    "df_dist.to_csv('distance_matrix.csv')    "
   ]
  },
  {
   "cell_type": "code",
   "execution_count": 5,
   "metadata": {
    "scrolled": true
   },
   "outputs": [],
   "source": [
    "from sklearn.model_selection import train_test_split\n",
    "\n",
    "train, test = train_test_split(df, test_size=0.2)\n",
    "test['indexes'] = test.index\n",
    "df_dist = df_dist.drop(list(test['indexes']))"
   ]
  },
  {
   "cell_type": "code",
   "execution_count": 70,
   "metadata": {
    "scrolled": true
   },
   "outputs": [
    {
     "name": "stderr",
     "output_type": "stream",
     "text": [
      "100%|█████████████████████████████████████| 2592/2592 [00:12<00:00, 214.19it/s]\n",
      "100%|█████████████████████████████████████| 2592/2592 [00:12<00:00, 201.41it/s]\n",
      "100%|█████████████████████████████████████| 2592/2592 [00:13<00:00, 186.13it/s]\n",
      "100%|█████████████████████████████████████| 2592/2592 [00:12<00:00, 207.80it/s]\n",
      "100%|█████████████████████████████████████| 2592/2592 [00:11<00:00, 220.08it/s]\n",
      "100%|█████████████████████████████████████| 2592/2592 [00:11<00:00, 217.48it/s]\n",
      "100%|█████████████████████████████████████| 2592/2592 [00:11<00:00, 228.28it/s]\n",
      "100%|█████████████████████████████████████| 2592/2592 [00:11<00:00, 217.25it/s]\n",
      "100%|█████████████████████████████████████| 2592/2592 [00:11<00:00, 218.31it/s]\n",
      "100%|█████████████████████████████████████| 2592/2592 [00:12<00:00, 211.38it/s]\n",
      "100%|█████████████████████████████████████| 2592/2592 [00:12<00:00, 204.30it/s]\n",
      "100%|█████████████████████████████████████| 2592/2592 [00:11<00:00, 203.81it/s]\n",
      "100%|█████████████████████████████████████| 2592/2592 [00:11<00:00, 217.39it/s]\n",
      "100%|█████████████████████████████████████| 2592/2592 [00:11<00:00, 219.77it/s]\n",
      "100%|█████████████████████████████████████| 2592/2592 [00:11<00:00, 216.19it/s]\n",
      "100%|█████████████████████████████████████| 2592/2592 [00:11<00:00, 219.14it/s]\n",
      "100%|█████████████████████████████████████| 2592/2592 [00:12<00:00, 208.72it/s]\n",
      "100%|█████████████████████████████████████| 2592/2592 [00:12<00:00, 211.30it/s]\n",
      "100%|█████████████████████████████████████| 2592/2592 [00:12<00:00, 204.34it/s]\n",
      "100%|█████████████████████████████████████| 2592/2592 [00:12<00:00, 213.59it/s]\n",
      "100%|█████████████████████████████████████| 2592/2592 [00:12<00:00, 210.63it/s]\n",
      "100%|█████████████████████████████████████| 2592/2592 [00:12<00:00, 208.86it/s]\n",
      "100%|█████████████████████████████████████| 2592/2592 [00:12<00:00, 210.97it/s]\n",
      "100%|██████████████████████████████████████| 2592/2592 [00:28<00:00, 91.66it/s]\n",
      "100%|██████████████████████████████████████| 2592/2592 [00:28<00:00, 91.80it/s]\n",
      "100%|██████████████████████████████████████| 2592/2592 [00:29<00:00, 87.67it/s]\n",
      "100%|██████████████████████████████████████| 2592/2592 [00:28<00:00, 89.52it/s]\n",
      "100%|██████████████████████████████████████| 2592/2592 [00:29<00:00, 88.09it/s]\n",
      "100%|██████████████████████████████████████| 2592/2592 [00:28<00:00, 91.10it/s]\n",
      "100%|█████████████████████████████████████| 2592/2592 [00:12<00:00, 208.93it/s]\n",
      "100%|█████████████████████████████████████| 2592/2592 [00:12<00:00, 207.92it/s]\n",
      "100%|█████████████████████████████████████| 2592/2592 [00:12<00:00, 211.46it/s]\n",
      "100%|█████████████████████████████████████| 2592/2592 [00:12<00:00, 201.14it/s]\n",
      "100%|█████████████████████████████████████| 2592/2592 [00:13<00:00, 196.61it/s]\n",
      "100%|█████████████████████████████████████| 2592/2592 [00:12<00:00, 211.08it/s]\n",
      "100%|█████████████████████████████████████| 2592/2592 [00:12<00:00, 214.03it/s]\n",
      "100%|█████████████████████████████████████| 2592/2592 [00:12<00:00, 210.88it/s]\n",
      "100%|█████████████████████████████████████| 2592/2592 [00:12<00:00, 205.48it/s]\n",
      "100%|█████████████████████████████████████| 2592/2592 [00:12<00:00, 210.87it/s]\n",
      "100%|█████████████████████████████████████| 2592/2592 [00:12<00:00, 211.33it/s]\n"
     ]
    }
   ],
   "source": [
    "accuracy = []\n",
    "\n",
    "for k in range(1,200,5):\n",
    "    print('Running for k = ', k)\n",
    "    preds = []\n",
    "    for item in tqdm(list(test['indexes'])):    \n",
    "        index_list = list(df_dist_new[item].sort_values().index[0:k])\n",
    "        neighbors = list(df.iloc[index_list]['target'])\n",
    "        prediction = Counter(neighbors).most_common(1)[0][0]\n",
    "        preds.append(prediction)\n",
    "    acc = getAccuracy(list(test['target']), preds)\n",
    "    print('Accuracy: ', acc)   \n",
    "    accuracy.append(acc)"
   ]
  },
  {
   "cell_type": "code",
   "execution_count": 82,
   "metadata": {
    "scrolled": true
   },
   "outputs": [
    {
     "data": {
      "image/png": "[encoded data removed]",
      "text/plain": [
       "<Figure size 432x288 with 1 Axes>"
      ]
     },
     "metadata": {
      "needs_background": "light"
     },
     "output_type": "display_data"
    }
   ],
   "source": [
    "from scipy.interpolate import make_interp_spline, BSpline\n",
    "import matplotlib.pyplot as plt\n",
    "import numpy as np\n",
    "\n",
    "T = np.array([i for i in range(1,200,5)])\n",
    "xnew = np.linspace(1,200,900) #300 represents number of points to make between T.min and T.max\n",
    "\n",
    "spl = make_interp_spline(T, np.array(accuracy), k=3) #BSpline object\n",
    "power_smooth = spl(xnew)\n",
    "\n",
    "plt.plot(xnew,power_smooth)\n",
    "\n",
    "print('k versus accuracy plot')\n",
    "plt.show()"
   ]
  },
  {
   "cell_type": "code",
   "execution_count": 83,
   "metadata": {},
   "outputs": [],
   "source": [
    "acc_dictionary = dict(zip(accuracy,T))"
   ]
  },
  {
   "cell_type": "code",
   "execution_count": 89,
   "metadata": {},
   "outputs": [
    {
     "name": "stdout",
     "output_type": "stream",
     "text": [
      "16\n"
     ]
    }
   ],
   "source": [
    "best_k = acc_dictionary.get(max(acc_dictionary.keys()))\n",
    "print('best k values is: 'best_k)"
   ]
  },
  {
   "cell_type": "code",
   "execution_count": 90,
   "metadata": {},
   "outputs": [],
   "source": [
    "results = pd.DataFrame()\n",
    "results['k_value'] = T\n",
    "results['accuracy'] = accuracy\n",
    "results.to_csv('accuracy.csv')"
   ]
  },
  {
   "cell_type": "code",
   "execution_count": null,
   "metadata": {},
   "outputs": [],
   "source": []
  }
 ],
 "metadata": {
  "kernelspec": {
   "display_name": "Python 3",
   "language": "python",
   "name": "python3"
  },
  "language_info": {
   "codemirror_mode": {
    "name": "ipython",
    "version": 3
   },
   "file_extension": ".py",
   "mimetype": "text/x-python",
   "name": "python",
   "nbconvert_exporter": "python",
   "pygments_lexer": "ipython3",
   "version": "3.7.0"
  }
 },
 "nbformat": 4,
 "nbformat_minor": 2
}
