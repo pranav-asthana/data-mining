{
 "cells": [
  {
   "cell_type": "code",
   "execution_count": 1,
   "metadata": {},
   "outputs": [
    {
     "name": "stdout",
     "output_type": "stream",
     "text": [
      "Priori Values:  {'priority': 0.3284460306742549, 'spec_prior': 0.30809298736375035, 'recommend': 9.645992090286486e-05, 'very_recom': 0.025176039355647727, 'not_recom': 0.3381884826854442}\n"
     ]
    },
    {
     "name": "stderr",
     "output_type": "stream",
     "text": [
      "100%|██████████████████████████████████████| 2592/2592 [18:24<00:00,  1.77it/s]\n"
     ]
    },
    {
     "name": "stdout",
     "output_type": "stream",
     "text": [
      "Accuracy:  71.14197530864197\n",
      "Predicted   not_recom  priority  spec_prior\n",
      "Actual                                     \n",
      "not_recom         814         0           0\n",
      "priority            0       507         354\n",
      "spec_prior          0       327         523\n",
      "very_recom          0        67           0\n",
      "\n",
      "Recall of  not_recom : 100.0\n",
      "Precision of  not_recom : 100.0\n",
      "\n",
      "Recall of  priority : 58.88501742160279\n",
      "Precision of  priority : 56.270810210876796\n",
      "\n",
      "Recall of  spec_prior : 61.52941176470588\n",
      "Precision of  spec_prior : 59.635119726339795\n",
      "\n"
     ]
    }
   ],
   "source": [
    "import pandas as pd\n",
    "from sklearn.model_selection import train_test_split\n",
    "from tqdm import tqdm\n",
    "\n",
    "\n",
    "#return the accuracy of the model\n",
    "def get_accuracy(testSet, predictions):\n",
    "    correct = 0\n",
    "    for x in range(len(testSet)):\n",
    "        if testSet[x] == predictions[x]:\n",
    "            correct += 1\n",
    "    return (correct/float(len(testSet))) * 100.0\n",
    "\n",
    "\n",
    "#prints the confusion matrix, precision and recall\n",
    "def get_metrics(targets, predictions):\n",
    "    y_actu = pd.Series(targets, name='Actual')\n",
    "    y_pred = pd.Series(predictions, name='Predicted')\n",
    "    df_confusion = pd.crosstab(y_actu, y_pred)\n",
    "    print(df_confusion)\n",
    "    print()\n",
    "    for col in list(df_confusion.columns):\n",
    "        print('Recall of ', col, ':', (df_confusion[col][col]/sum(list(df_confusion.loc[col,:])))*100)\n",
    "        print('Precision of ', col, ':', (df_confusion[col][col]/sum(list(df_confusion.loc[:,col])))*100)\n",
    "        print()\n",
    "        \n",
    "#def main():\n",
    "df = pd.read_csv('C:/Users/Sahil/Downloads/nursery.csv')\n",
    "df.columns = ['parents', 'has_nurs', 'form', 'children', 'housing', 'finance', 'social', 'health', 'target']\n",
    "train, test = train_test_split(df, test_size=0.2)\n",
    "\n",
    "#calculating the priors of the model\n",
    "priori = {}\n",
    "class_values = list(set(train['target']))\n",
    "class_data =  list(train['target'])\n",
    "for i in class_values:\n",
    "    priori[i]  = class_data.count(i)/float(len(class_data))\n",
    "print (\"Priori Values: \", priori)\n",
    "\n",
    "pred = []\n",
    "#calculating the conditional probabilities and getting predictions\n",
    "for index, row in tqdm(test.iterrows(), total=test.shape[0]):\n",
    "    hypothesis = {}\n",
    "    new_dict = {}\n",
    "    for col in df.columns[0:8]:\n",
    "        hypothesis[col] = row[col]\n",
    "    for priori_val in priori:\n",
    "        for item in hypothesis:\n",
    "            new_dict[priori_val] = 1\n",
    "            filter1 = (train[item]==hypothesis[item]) & (train['target']== priori_val)\n",
    "            filter2 = (train['target']==priori_val)\n",
    "            new_dict[priori_val] = new_dict[priori_val]*round(len(train[filter1])/(len(train[filter2])), 3)\n",
    "        new_dict[priori_val] =  new_dict[priori_val]*round(priori[priori_val], 3)\n",
    "    summ = sum(new_dict.values())\n",
    "    for i in new_dict:\n",
    "        new_dict[i] = new_dict[i]/summ\n",
    "    prediction =  max(new_dict, key=lambda key: new_dict[key])\n",
    "    pred.append(prediction)\n",
    "\n",
    "    #getting accuracy, confusion matrix, precision, recall\n",
    "test_set = list(test['target'])\n",
    "print('Accuracy: ', get_accuracy(test_set, pred))\n",
    "get_metrics(test_set, pred)\n",
    "\n"
   ]
  },
  {
   "cell_type": "code",
   "execution_count": 4,
   "metadata": {},
   "outputs": [],
   "source": [
    "test.to_csv('test.csv')\n",
    "train.to_csv('train.csv')"
   ]
  },
  {
   "cell_type": "code",
   "execution_count": null,
   "metadata": {},
   "outputs": [],
   "source": []
  },
  {
   "cell_type": "code",
   "execution_count": null,
   "metadata": {},
   "outputs": [],
   "source": []
  },
  {
   "cell_type": "code",
   "execution_count": 50,
   "metadata": {},
   "outputs": [
    {
     "data": {
      "text/plain": [
       "{'not_recom', 'priority', 'spec_prior', 'very_recom'}"
      ]
     },
     "execution_count": 50,
     "metadata": {},
     "output_type": "execute_result"
    }
   ],
   "source": [
    "set(list(test['target']))"
   ]
  },
  {
   "cell_type": "code",
   "execution_count": 51,
   "metadata": {},
   "outputs": [
    {
     "data": {
      "text/plain": [
       "priority      863\n",
       "spec_prior    833\n",
       "not_recom     822\n",
       "very_recom     74\n",
       "Name: target, dtype: int64"
      ]
     },
     "execution_count": 51,
     "metadata": {},
     "output_type": "execute_result"
    }
   ],
   "source": [
    "test['target'].value_counts()"
   ]
  },
  {
   "cell_type": "code",
   "execution_count": 52,
   "metadata": {},
   "outputs": [
    {
     "data": {
      "text/plain": [
       "not_recom     4320\n",
       "priority      4266\n",
       "spec_prior    4044\n",
       "very_recom     328\n",
       "recommend        1\n",
       "Name: target, dtype: int64"
      ]
     },
     "execution_count": 52,
     "metadata": {},
     "output_type": "execute_result"
    }
   ],
   "source": [
    "df['target'].value_counts()"
   ]
  },
  {
   "cell_type": "code",
   "execution_count": null,
   "metadata": {},
   "outputs": [],
   "source": []
  }
 ],
 "metadata": {
  "kernelspec": {
   "display_name": "Python 3",
   "language": "python",
   "name": "python3"
  },
  "language_info": {
   "codemirror_mode": {
    "name": "ipython",
    "version": 3
   },
   "file_extension": ".py",
   "mimetype": "text/x-python",
   "name": "python",
   "nbconvert_exporter": "python",
   "pygments_lexer": "ipython3",
   "version": "3.7.0"
  }
 },
 "nbformat": 4,
 "nbformat_minor": 2
}
